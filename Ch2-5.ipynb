{
 "cells": [
  {
   "cell_type": "code",
   "execution_count": 1,
   "metadata": {
    "collapsed": true,
    "pycharm": {
     "name": "#%%\n"
    }
   },
   "outputs": [],
   "source": [
    "import numpy as np\n",
    "import matplotlib.pyplot as plt\n",
    "import random"
   ]
  },
  {
   "cell_type": "code",
   "execution_count": 4,
   "metadata": {
    "collapsed": false,
    "pycharm": {
     "name": "#%%\n"
    }
   },
   "outputs": [],
   "source": [
    "# add indep. random walks to q* on each step\n",
    "# set initial q* as 0\n",
    "\n",
    "step_num = 10000\n",
    "\n",
    "class Bandit:\n",
    "    def __init__(self,number_of_arms, eps, alpha)->None:\n",
    "        self.number_of_arms = number_of_arms\n",
    "        self.q_list = [0]*self.number_of_arms\n",
    "        self.eps = eps\n",
    "        self.alpha = alpha\n",
    "\n",
    "    # randomwalk - normally distributed increment N(0,0.01)\n",
    "    def random_walk(self)->None:\n",
    "        for i in range(self.number_of_arms):\n",
    "            increment = np.random.normal(0,0.01)\n",
    "            self.q_list[i] = self.q_list[i] + increment\n",
    "\n",
    "    # epsilon greedy\n",
    "    def eps_greedy(self)->int:\n",
    "        coin = random.uniform(0,1)\n",
    "        if self.eps > coin:\n",
    "            return np.random.choice(self.number_of_arms)\n",
    "\n",
    "        else:\n",
    "            return np.argmax(self.q_list)\n",
    "\n",
    "R_const_stepsize = []\n",
    "R_varying_stepsize = []\n",
    "\n",
    "B1 = Bandit(10,0.1,0.1)\n",
    "reward_list = 0\n",
    "reward_number = 0\n",
    "avg_reward = 0\n",
    "\n",
    "R_const_stepsize_list = []\n",
    "R_varying_stepsize_list = []\n",
    "\n",
    "\n",
    "#Constant stepsize paramter Q_n+1 =Qn+ alpha [Rn - Qn]\n",
    "for i in range(step_num):\n",
    "    for j in range(1000):\n",
    "        B1.random_walk()\n",
    "        action = B1.eps_greedy()\n",
    "        reward = B1.q_list[action]\n",
    "        reward_number += 1\n",
    "        B1.q_list[action] += B1.alpha*(reward-B1.q_list[action])\n",
    "        avg_reward += 1/reward_number*(reward - avg_reward)\n",
    "        R_const_stepsize.append(avg_reward)\n",
    "    R_const_stepsize_list.append(np.mean(R_const_stepsize))\n",
    "\n",
    "\n",
    "B1 = Bandit(10,0.1,0.1)\n",
    "reward_list = 0\n",
    "reward_number = 0\n",
    "avg_reward = 0\n",
    "\n",
    "for i in range(step_num):\n",
    "    for j in range(1000):\n",
    "        B1.random_walk()\n",
    "        action = B1.eps_greedy()\n",
    "        reward = B1.q_list[action]\n",
    "        reward_number += 1\n",
    "        B1.q_list[action] += B1.alpha*(reward-B1.q_list[action])\n",
    "        avg_reward += 1/reward_number*(reward -avg_reward)\n",
    "        R_varying_stepsize.append(avg_reward)\n",
    "    R_varying_stepsize_list.append(np.mean(R_const_stepsize))"
   ]
  },
  {
   "cell_type": "code",
   "execution_count": null,
   "metadata": {
    "collapsed": false,
    "pycharm": {
     "name": "#%%\n"
    }
   },
   "outputs": [
    {
     "ename": "NameError",
     "evalue": "name 'R_const_stepsize_list' is not defined",
     "output_type": "error",
     "traceback": [
      "\u001b[0;31m---------------------------------------------------------------------------\u001b[0m",
      "\u001b[0;31mNameError\u001b[0m                                 Traceback (most recent call last)",
      "\u001b[1;32m/Users/dongjin/Dropbox/Mac/Downloads/Ch2-5.ipynb Cell 3'\u001b[0m in \u001b[0;36m<cell line: 5>\u001b[0;34m()\u001b[0m\n\u001b[1;32m      <a href='vscode-notebook-cell:/Users/dongjin/Dropbox/Mac/Downloads/Ch2-5.ipynb#ch0000002?line=2'>3</a>\u001b[0m plt\u001b[39m.\u001b[39mxlabel(\u001b[39m'\u001b[39m\u001b[39msteps\u001b[39m\u001b[39m'\u001b[39m)\n\u001b[1;32m      <a href='vscode-notebook-cell:/Users/dongjin/Dropbox/Mac/Downloads/Ch2-5.ipynb#ch0000002?line=3'>4</a>\u001b[0m plt\u001b[39m.\u001b[39mylabel(\u001b[39m'\u001b[39m\u001b[39maverage reward\u001b[39m\u001b[39m'\u001b[39m)\n\u001b[0;32m----> <a href='vscode-notebook-cell:/Users/dongjin/Dropbox/Mac/Downloads/Ch2-5.ipynb#ch0000002?line=4'>5</a>\u001b[0m plt\u001b[39m.\u001b[39mplot(R_const_stepsize_list, \u001b[39m'\u001b[39m\u001b[39mr\u001b[39m\u001b[39m'\u001b[39m, label\u001b[39m=\u001b[39m\u001b[39m'\u001b[39m\u001b[39mconstant stepsize\u001b[39m\u001b[39m'\u001b[39m)\n\u001b[1;32m      <a href='vscode-notebook-cell:/Users/dongjin/Dropbox/Mac/Downloads/Ch2-5.ipynb#ch0000002?line=5'>6</a>\u001b[0m plt\u001b[39m.\u001b[39mplot(R_varying_stepsize, \u001b[39m'\u001b[39m\u001b[39mb\u001b[39m\u001b[39m'\u001b[39m, label\u001b[39m=\u001b[39m\u001b[39m'\u001b[39m\u001b[39mvarying stepsize\u001b[39m\u001b[39m'\u001b[39m)\n\u001b[1;32m      <a href='vscode-notebook-cell:/Users/dongjin/Dropbox/Mac/Downloads/Ch2-5.ipynb#ch0000002?line=6'>7</a>\u001b[0m plt\u001b[39m.\u001b[39mlegend()\n",
      "\u001b[0;31mNameError\u001b[0m: name 'R_const_stepsize_list' is not defined"
     ]
    },
    {
     "data": {
      "image/png": "[encoded data removed]",
      "text/plain": [
       "<Figure size 720x360 with 1 Axes>"
      ]
     },
     "metadata": {
      "needs_background": "light"
     },
     "output_type": "display_data"
    }
   ],
   "source": [
    "\n",
    "fig = plt.figure(figsize=(10,5))\n",
    "fig.add_subplot(111)\n",
    "plt.xlabel('steps')\n",
    "plt.ylabel('average reward')\n",
    "plt.plot(R_const_stepsize_list, 'r', label='constant stepsize')\n",
    "plt.plot(R_varying_stepsize_list, 'b', label='varying stepsize')\n",
    "plt.legend()\n",
    "plt.show()\n"
   ]
  },
  {
   "cell_type": "code",
   "execution_count": 23,
   "metadata": {
    "collapsed": false,
    "pycharm": {
     "name": "#%%\n"
    }
   },
   "outputs": [
    {
     "data": {
      "text/plain": [
       "-0.008788875996470921"
      ]
     },
     "execution_count": 23,
     "metadata": {},
     "output_type": "execute_result"
    }
   ],
   "source": [
    "\n"
   ]
  },
  {
   "cell_type": "code",
   "execution_count": null,
   "metadata": {
    "collapsed": false,
    "pycharm": {
     "name": "#%%\n"
    }
   },
   "outputs": [],
   "source": []
  }
 ],
 "metadata": {
  "kernelspec": {
   "display_name": "Python 3",
   "language": "python",
   "name": "python3"
  },
  "language_info": {
   "codemirror_mode": {
    "name": "ipython",
    "version": 3
   },
   "file_extension": ".py",
   "mimetype": "text/x-python",
   "name": "python",
   "nbconvert_exporter": "python",
   "pygments_lexer": "ipython3",
   "version": "3.9.13"
  }
 },
 "nbformat": 4,
 "nbformat_minor": 0
}
