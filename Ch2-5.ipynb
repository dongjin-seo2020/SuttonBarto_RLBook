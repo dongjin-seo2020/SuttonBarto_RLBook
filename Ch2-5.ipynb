{
 "cells": [
  {
   "cell_type": "code",
   "execution_count": 1,
   "metadata": {
    "collapsed": true,
    "pycharm": {
     "name": "#%%\n"
    }
   },
   "outputs": [],
   "source": [
    "import numpy as np\n",
    "import matplotlib.pyplot as plt\n",
    "import random"
   ]
  },
  {
   "cell_type": "code",
   "execution_count": 15,
   "metadata": {
    "collapsed": false,
    "pycharm": {
     "name": "#%%\n"
    }
   },
   "outputs": [],
   "source": [
    "# add indep. random walks to q* on each step\n",
    "# set initial q* as 0\n",
    "\n",
    "step_num = 5000\n",
    "\n",
    "class Bandit:\n",
    "    def __init__(self,number_of_arms, eps, alpha)->None:\n",
    "        self.number_of_arms = number_of_arms\n",
    "        self.q_list = [0]*self.number_of_arms\n",
    "        self.eps = eps\n",
    "        self.alpha = alpha\n",
    "\n",
    "    # randomwalk - normally distributed increment N(0,0.01)\n",
    "    def random_walk(self)->None:\n",
    "        for i in range(self.number_of_arms):\n",
    "            increment = np.random.normal(0,0.01)\n",
    "            self.q_list[i] = self.q_list[i] + increment\n",
    "\n",
    "    # epsilon greedy\n",
    "    def eps_greedy(self)->int:\n",
    "        coin = random.uniform(0,1)\n",
    "        if self.eps > coin:\n",
    "            return np.random.choice(self.number_of_arms)\n",
    "\n",
    "        else:\n",
    "            return np.argmax(self.q_list)\n",
    "\n",
    "R_const_stepsize = []\n",
    "R_varying_stepsize = []\n",
    "\n",
    "B1 = Bandit(10,0.1,0.1)\n",
    "reward_list = 0\n",
    "reward_number = 0\n",
    "avg_reward = 0\n",
    "\n",
    "R_const_stepsize_list = []\n",
    "R_varying_stepsize_list = []\n",
    "\n",
    "\n",
    "#Constant stepsize paramter Q_n+1 =Qn+ alpha [Rn - Qn]\n",
    "for i in range(step_num):\n",
    "    for j in range(100):\n",
    "        B1.random_walk()\n",
    "        action = B1.eps_greedy()\n",
    "        reward = B1.q_list[action]\n",
    "        reward_number += 1\n",
    "        B1.q_list[action] += B1.alpha*(reward-B1.q_list[action])\n",
    "        avg_reward += 1/reward_number*(reward - avg_reward)\n",
    "        R_const_stepsize.append(avg_reward)\n",
    "    R_const_stepsize_list.append(np.mean(R_const_stepsize))\n",
    "\n",
    "\n",
    "B1 = Bandit(10,0.1,0.1)\n",
    "reward_list = 0\n",
    "reward_number = 0\n",
    "avg_reward = 0\n",
    "\n",
    "for i in range(step_num):\n",
    "    for j in range(100):\n",
    "        B1.random_walk()\n",
    "        action = B1.eps_greedy()\n",
    "        reward = B1.q_list[action]\n",
    "        reward_number += 1\n",
    "        B1.q_list[action] += 1/reward_number*(reward-B1.q_list[action])\n",
    "        avg_reward += 1/reward_number*(reward -avg_reward)\n",
    "        R_varying_stepsize.append(avg_reward)\n",
    "    R_varying_stepsize_list.append(np.mean(R_varying_stepsize))"
   ]
  },
  {
   "cell_type": "code",
   "execution_count": 16,
   "metadata": {
    "collapsed": false,
    "pycharm": {
     "name": "#%%\n"
    }
   },
   "outputs": [
    {
     "data": {
      "image/png": "[encoded data removed]",
      "text/plain": [
       "<Figure size 720x360 with 1 Axes>"
      ]
     },
     "metadata": {
      "needs_background": "light"
     },
     "output_type": "display_data"
    }
   ],
   "source": [
    "\n",
    "fig = plt.figure(figsize=(10,5))\n",
    "fig.add_subplot(111)\n",
    "plt.xlabel('steps')\n",
    "plt.ylabel('average reward')\n",
    "plt.plot(R_const_stepsize_list, 'r', label='constant stepsize')\n",
    "plt.plot(R_varying_stepsize_list, 'b', label='varying stepsize')\n",
    "plt.legend()\n",
    "plt.show()\n"
   ]
  },
  {
   "cell_type": "code",
   "execution_count": 23,
   "metadata": {
    "collapsed": false,
    "pycharm": {
     "name": "#%%\n"
    }
   },
   "outputs": [
    {
     "data": {
      "text/plain": [
       "-0.008788875996470921"
      ]
     },
     "execution_count": 23,
     "metadata": {},
     "output_type": "execute_result"
    }
   ],
   "source": [
    "\n"
   ]
  },
  {
   "cell_type": "code",
   "execution_count": null,
   "metadata": {
    "collapsed": false,
    "pycharm": {
     "name": "#%%\n"
    }
   },
   "outputs": [],
   "source": []
  }
 ],
 "metadata": {
  "kernelspec": {
   "display_name": "Python 3",
   "language": "python",
   "name": "python3"
  },
  "language_info": {
   "codemirror_mode": {
    "name": "ipython",
    "version": 3
   },
   "file_extension": ".py",
   "mimetype": "text/x-python",
   "name": "python",
   "nbconvert_exporter": "python",
   "pygments_lexer": "ipython3",
   "version": "3.9.13"
  }
 },
 "nbformat": 4,
 "nbformat_minor": 0
}
